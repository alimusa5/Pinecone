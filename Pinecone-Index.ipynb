{
 "cells": [
  {
   "cell_type": "code",
   "execution_count": 8,
   "id": "c53cef8b-9722-4863-b602-1a5e82a6a729",
   "metadata": {},
   "outputs": [],
   "source": [
    "#importing the required libraries\n",
    "import pinecone\n",
    "from tqdm.autonotebook import tqdm #warning taken care of"
   ]
  },
  {
   "cell_type": "code",
   "execution_count": 9,
   "id": "84084ae4-8094-4273-9fdd-05f9239372c6",
   "metadata": {},
   "outputs": [],
   "source": [
    "#connecting and initializing the environment of pinecone\n",
    "API_Key=\"ccbb8a17-1fce-42ef-aa95-6f051cdeceab\"\n",
    "Env = \"us-west4-gcp-free\"\n",
    "pinecone.init(api_key=API_Key , environment=Env)"
   ]
  },
  {
   "cell_type": "markdown",
   "id": "5734d6f2-0d05-485d-a9d9-12bea59319ae",
   "metadata": {},
   "source": [
    "## Create Index"
   ]
  },
  {
   "cell_type": "code",
   "execution_count": 10,
   "id": "94e28513-df27-48e0-8401-0e39f48210f0",
   "metadata": {},
   "outputs": [],
   "source": [
    "#creating a index by passing its name and the number of dimensions in it\n",
    "pinecone.create_index(\"database\", dimension=3, metric = \"dotproduct\", pod_type = \"s1\" ) \n",
    "#sparse dense vector(s1-optimized for the storage of the vectors)"
   ]
  },
  {
   "cell_type": "markdown",
   "id": "7bb6788d-3d0f-4c08-ba00-cfced61d6fef",
   "metadata": {},
   "source": [
    "## Retrieve List of database Indexes"
   ]
  },
  {
   "cell_type": "code",
   "execution_count": 11,
   "id": "633d3da8-eeaa-4f10-9af9-9126b119372b",
   "metadata": {},
   "outputs": [
    {
     "data": {
      "text/plain": [
       "['database']"
      ]
     },
     "execution_count": 11,
     "metadata": {},
     "output_type": "execute_result"
    }
   ],
   "source": [
    "pinecone.list_indexes()"
   ]
  },
  {
   "cell_type": "markdown",
   "id": "fbda7ce4-4df0-43e7-8b85-28b87dd84b57",
   "metadata": {},
   "source": [
    "## Connect to a Index"
   ]
  },
  {
   "cell_type": "code",
   "execution_count": 13,
   "id": "1a81be7f-34c5-46a3-b740-4afbc2eb48d2",
   "metadata": {},
   "outputs": [],
   "source": [
    "idx = pinecone.Index(\"database\")"
   ]
  },
  {
   "cell_type": "markdown",
   "id": "7c3f4384-ecca-4422-9888-7418827388e5",
   "metadata": {},
   "source": [
    "## Describe Index"
   ]
  },
  {
   "cell_type": "code",
   "execution_count": 21,
   "id": "5667dbcc-f5da-414c-9acc-db1758d88f46",
   "metadata": {},
   "outputs": [
    {
     "name": "stdout",
     "output_type": "stream",
     "text": [
      "IndexDescription(name='database', metric='dotproduct', replicas=1, dimension=3.0, shards=1, pods=1, pod_type='p1', status={'ready': True, 'state': 'Ready'}, metadata_config=None, source_collection='')\n"
     ]
    }
   ],
   "source": [
    "description = pinecone.describe_index(\"database\") # response\n",
    "print(description)"
   ]
  },
  {
   "cell_type": "code",
   "execution_count": 25,
   "id": "59f201d6-26f3-4728-8f78-712aad22e8d9",
   "metadata": {},
   "outputs": [
    {
     "data": {
      "text/plain": [
       "True"
      ]
     },
     "execution_count": 25,
     "metadata": {},
     "output_type": "execute_result"
    }
   ],
   "source": [
    "description.status['ready'] "
   ]
  },
  {
   "cell_type": "code",
   "execution_count": 26,
   "id": "26e95dc2-891f-46c9-bb71-9578f8736e42",
   "metadata": {},
   "outputs": [
    {
     "data": {
      "text/plain": [
       "'Ready'"
      ]
     },
     "execution_count": 26,
     "metadata": {},
     "output_type": "execute_result"
    }
   ],
   "source": [
    "description.status['state']"
   ]
  },
  {
   "cell_type": "code",
   "execution_count": 33,
   "id": "0395902b-b1d6-4113-bec2-46d03143bf8d",
   "metadata": {},
   "outputs": [
    {
     "name": "stdout",
     "output_type": "stream",
     "text": [
      "Index is ready\n"
     ]
    }
   ],
   "source": [
    "#Checking the status of the index (ready or not)\n",
    "if (description.status['state'] == 'Ready'):\n",
    "    print(\"Index is ready\")\n",
    "else:\n",
    "    print(\"Index not ready\")"
   ]
  },
  {
   "cell_type": "code",
   "execution_count": 34,
   "id": "900c5a56-0119-4b31-864b-7191dad24487",
   "metadata": {},
   "outputs": [
    {
     "data": {
      "text/plain": [
       "3.0"
      ]
     },
     "execution_count": 34,
     "metadata": {},
     "output_type": "execute_result"
    }
   ],
   "source": [
    "description.dimension"
   ]
  },
  {
   "cell_type": "code",
   "execution_count": 43,
   "id": "142f5ba1-25c7-4a56-ab40-21777ddd9c3a",
   "metadata": {},
   "outputs": [
    {
     "name": "stdout",
     "output_type": "stream",
     "text": [
      "Sparse-dense usable\n"
     ]
    }
   ],
   "source": [
    "description.pod_type.split(\".\")[0]\n",
    "if 's1' or 'p1':\n",
    "    print(\"Sparse-dense usable\")\n",
    "else:\n",
    "    print(\"Sparse-dense not usable\")"
   ]
  },
  {
   "cell_type": "markdown",
   "id": "a440e9e4-67e0-4a93-af96-5f50ea0e1f26",
   "metadata": {},
   "source": [
    "## Delete an index"
   ]
  },
  {
   "cell_type": "code",
   "execution_count": 44,
   "id": "5bf17367-8109-4609-91f9-edd4e243d7d5",
   "metadata": {},
   "outputs": [],
   "source": [
    "pinecone.delete_index(\"database\")"
   ]
  }
 ],
 "metadata": {
  "kernelspec": {
   "display_name": "Python 3 (ipykernel)",
   "language": "python",
   "name": "python3"
  },
  "language_info": {
   "codemirror_mode": {
    "name": "ipython",
    "version": 3
   },
   "file_extension": ".py",
   "mimetype": "text/x-python",
   "name": "python",
   "nbconvert_exporter": "python",
   "pygments_lexer": "ipython3",
   "version": "3.11.5"
  }
 },
 "nbformat": 4,
 "nbformat_minor": 5
}
