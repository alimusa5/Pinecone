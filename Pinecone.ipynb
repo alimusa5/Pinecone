{
 "cells": [
  {
   "cell_type": "markdown",
   "id": "d857f1cc-9856-4504-a297-e1ecc266eea8",
   "metadata": {},
   "source": [
    "# Pinecone Setup"
   ]
  },
  {
   "cell_type": "code",
   "execution_count": 65,
   "id": "9bf4f778-bd57-479f-af97-ff2c17fc185b",
   "metadata": {},
   "outputs": [],
   "source": [
    "#importing the required libraries\n",
    "import pinecone\n",
    "from tqdm.autonotebook import tqdm #warning taken care of"
   ]
  },
  {
   "cell_type": "code",
   "execution_count": 66,
   "id": "6eb4c01a-39ce-4192-aed9-d71cb269c2fb",
   "metadata": {},
   "outputs": [],
   "source": [
    "#connecting and initializing the environment of pinecone\n",
    "pinecone.init(api_key=\"ccbb8a17-1fce-42ef-aa95-6f051cdeceab\" , environment=\"us-west4-gcp-free\")"
   ]
  },
  {
   "cell_type": "code",
   "execution_count": 67,
   "id": "52345eb4-5510-4918-8323-26c23a53f5a9",
   "metadata": {},
   "outputs": [],
   "source": [
    "#creating a index by passing its name and the number of dimensions in it\n",
    "pinecone.create_index(name=\"database\" , dimension=3)"
   ]
  },
  {
   "cell_type": "code",
   "execution_count": 50,
   "id": "e7931d88-dc82-4621-b4cc-ccc942539b2a",
   "metadata": {},
   "outputs": [
    {
     "data": {
      "text/plain": [
       "['database']"
      ]
     },
     "execution_count": 50,
     "metadata": {},
     "output_type": "execute_result"
    }
   ],
   "source": [
    "#printing the index to check all the indexes that exist in the database\n",
    "pinecone.list_indexes()"
   ]
  },
  {
   "cell_type": "code",
   "execution_count": 68,
   "id": "ec0d2c0e-796e-4902-8efb-4e26e9263cc1",
   "metadata": {},
   "outputs": [],
   "source": [
    "#initializing the idx variable for the database index\n",
    "idx = pinecone.Index('database')"
   ]
  },
  {
   "cell_type": "markdown",
   "id": "807e714d-b1f5-4917-a675-8032327319c3",
   "metadata": {},
   "source": [
    "# Inserting Vectors"
   ]
  },
  {
   "cell_type": "code",
   "execution_count": 69,
   "id": "2e16264c-ada7-42ca-a40d-76084393e98f",
   "metadata": {},
   "outputs": [
    {
     "data": {
      "text/plain": [
       "{'upserted_count': 5}"
      ]
     },
     "execution_count": 69,
     "metadata": {},
     "output_type": "execute_result"
    }
   ],
   "source": [
    "#Inserting vectors into the index\n",
    "idx.upsert(vectors = [\n",
    "    ('A', [7, 3, 2]),\n",
    "    ('B', [1, 5, 8]),\n",
    "    ('C', [4, 0, 6]),\n",
    "    ('D', [2, 9, 1]),\n",
    "    ('E', [5, 5, 5])\n",
    "])"
   ]
  },
  {
   "cell_type": "markdown",
   "id": "0c120e9e-f029-44f5-a280-8fc53d863319",
   "metadata": {},
   "source": [
    "# Updating Vectors"
   ]
  },
  {
   "cell_type": "code",
   "execution_count": 70,
   "id": "87f5fac3-3bd0-46e5-8484-2c6dabc5e5d5",
   "metadata": {},
   "outputs": [
    {
     "data": {
      "text/plain": [
       "{}"
      ]
     },
     "execution_count": 70,
     "metadata": {},
     "output_type": "execute_result"
    }
   ],
   "source": [
    "#Updating values of the vectors already in the index\n",
    "idx.update(id='E', values = [3,7,4] )"
   ]
  },
  {
   "cell_type": "markdown",
   "id": "a550af31-9aaf-4e9d-9a1f-bc4283b3eecc",
   "metadata": {},
   "source": [
    "# Querying Vectors"
   ]
  },
  {
   "cell_type": "code",
   "execution_count": 73,
   "id": "4cbb0bb5-4a60-4822-93bb-510c888dad08",
   "metadata": {},
   "outputs": [
    {
     "data": {
      "text/plain": [
       "{'matches': [{'id': 'D', 'score': 0.984373927, 'values': [2.0, 9.0, 1.0]},\n",
       "             {'id': 'E', 'score': 0.955071747, 'values': [3.0, 7.0, 4.0]}],\n",
       " 'namespace': ''}"
      ]
     },
     "execution_count": 73,
     "metadata": {},
     "output_type": "execute_result"
    }
   ],
   "source": [
    "#query vector\n",
    "idx.query([2, 5, 1], top_k=2, include_values = True)"
   ]
  },
  {
   "cell_type": "code",
   "execution_count": 74,
   "id": "64b2b123-46ca-4c82-b360-91eefe1fd62f",
   "metadata": {},
   "outputs": [
    {
     "data": {
      "text/plain": [
       "{'namespace': '',\n",
       " 'vectors': {'A': {'id': 'A', 'values': [7.0, 3.0, 2.0]},\n",
       "             'B': {'id': 'B', 'values': [1.0, 5.0, 8.0]}}}"
      ]
     },
     "execution_count": 74,
     "metadata": {},
     "output_type": "execute_result"
    }
   ],
   "source": [
    "#fetching vectors by IDs\n",
    "idx.fetch(ids=[\"A\", \"B\"])"
   ]
  },
  {
   "cell_type": "markdown",
   "id": "825890cb-0080-4930-80da-414f96e2a090",
   "metadata": {},
   "source": [
    "# Deleting Vectors"
   ]
  },
  {
   "cell_type": "code",
   "execution_count": 75,
   "id": "c98865b1-44f0-4448-8dcf-d7d7cec06034",
   "metadata": {},
   "outputs": [
    {
     "data": {
      "text/plain": [
       "{}"
      ]
     },
     "execution_count": 75,
     "metadata": {},
     "output_type": "execute_result"
    }
   ],
   "source": [
    "#Deleting vectors by IDs\n",
    "idx.delete(ids=['A'])"
   ]
  },
  {
   "cell_type": "code",
   "execution_count": 76,
   "id": "c9b7b3ac-4baa-4ebf-b23b-d5086e4e0403",
   "metadata": {},
   "outputs": [
    {
     "data": {
      "text/plain": [
       "{}"
      ]
     },
     "execution_count": 76,
     "metadata": {},
     "output_type": "execute_result"
    }
   ],
   "source": [
    "#Deleting all the vectors in the index\n",
    "idx.delete(delete_all = True)"
   ]
  }
 ],
 "metadata": {
  "kernelspec": {
   "display_name": "Python 3 (ipykernel)",
   "language": "python",
   "name": "python3"
  },
  "language_info": {
   "codemirror_mode": {
    "name": "ipython",
    "version": 3
   },
   "file_extension": ".py",
   "mimetype": "text/x-python",
   "name": "python",
   "nbconvert_exporter": "python",
   "pygments_lexer": "ipython3",
   "version": "3.11.5"
  }
 },
 "nbformat": 4,
 "nbformat_minor": 5
}
